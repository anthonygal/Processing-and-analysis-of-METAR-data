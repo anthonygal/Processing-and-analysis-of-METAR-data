{
 "cells": [
  {
   "cell_type": "code",
   "execution_count": 1,
   "metadata": {},
   "outputs": [],
   "source": [
    "import csv "
   ]
  },
  {
   "cell_type": "code",
   "execution_count": 2,
   "metadata": {},
   "outputs": [],
   "source": [
    "def data_file_generator(data_path):\n",
    "    with open(data_path, 'r') as f: \n",
    "        reader = csv.DictReader(f, delimiter = ',')\n",
    "        for r in reader:\n",
    "            yield dict(r)"
   ]
  },
  {
   "cell_type": "code",
   "execution_count": 3,
   "metadata": {},
   "outputs": [],
   "source": [
    "g = data_file_generator('./asos.txt')"
   ]
  },
  {
   "cell_type": "code",
   "execution_count": 4,
   "metadata": {},
   "outputs": [
    {
     "data": {
      "text/plain": [
       "{'alti': '29.59',\n",
       " 'drct': '180.00',\n",
       " 'dwpf': '33.80',\n",
       " 'feel': '30.79',\n",
       " 'gust': 'M',\n",
       " 'ice_accretion_1hr': 'M',\n",
       " 'ice_accretion_3hr': 'M',\n",
       " 'ice_accretion_6hr': 'M',\n",
       " 'lat': '47.4444',\n",
       " 'lon': '0.7272',\n",
       " 'metar': 'LFOT 010000Z 18013KT 9999 -RA BKN026 BKN100 04/01 Q1002',\n",
       " 'mslp': 'M',\n",
       " 'p01i': 'M',\n",
       " 'peak_wind_drct': 'M',\n",
       " 'peak_wind_gust': 'M',\n",
       " 'peak_wind_time': 'M',\n",
       " 'relh': '80.79',\n",
       " 'sknt': '13.00',\n",
       " 'skyc1': 'BKN',\n",
       " 'skyc2': 'BKN',\n",
       " 'skyc3': 'M',\n",
       " 'skyc4': 'M',\n",
       " 'skyl1': '2600.00',\n",
       " 'skyl2': '10000.00',\n",
       " 'skyl3': 'M',\n",
       " 'skyl4': 'M',\n",
       " 'station': 'LFOT',\n",
       " 'tmpf': '39.20',\n",
       " 'valid': '2001-01-01 00:00',\n",
       " 'vsby': '6.21',\n",
       " 'wxcodes': '-RA'}"
      ]
     },
     "execution_count": 4,
     "metadata": {},
     "output_type": "execute_result"
    }
   ],
   "source": [
    "next(g)"
   ]
  },
  {
   "cell_type": "markdown",
   "metadata": {},
   "source": []
  }
 ],
 "metadata": {
  "kernelspec": {
   "display_name": "Python 3",
   "language": "python",
   "name": "python3"
  },
  "language_info": {
   "codemirror_mode": {
    "name": "ipython",
    "version": 3
   },
   "file_extension": ".py",
   "mimetype": "text/x-python",
   "name": "python",
   "nbconvert_exporter": "python",
   "pygments_lexer": "ipython3",
   "version": "3.6.4"
  }
 },
 "nbformat": 4,
 "nbformat_minor": 2
}
