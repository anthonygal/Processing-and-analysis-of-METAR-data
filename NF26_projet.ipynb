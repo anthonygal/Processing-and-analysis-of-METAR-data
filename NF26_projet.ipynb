{
 "cells": [
  {
   "cell_type": "code",
   "execution_count": 20,
   "metadata": {},
   "outputs": [],
   "source": [
    "import csv \n",
    "import re"
   ]
  },
  {
   "cell_type": "code",
   "execution_count": 28,
   "metadata": {},
   "outputs": [],
   "source": [
    "def data_file_generator(data_path):\n",
    "    with open(data_path, 'r') as f: \n",
    "        reader = csv.DictReader(f, delimiter = ',')\n",
    "        for r in reader:\n",
    "            yield dict(r)"
   ]
  },
  {
   "cell_type": "code",
   "execution_count": 33,
   "metadata": {},
   "outputs": [],
   "source": [
    "g = data_file_generator('./asos.txt')\n"
   ]
  },
  {
   "cell_type": "code",
   "execution_count": 37,
   "metadata": {},
   "outputs": [],
   "source": [
    "# g = data_file_generator('./asos.txt')\n",
    "# flag = True\n",
    "# i = 0\n",
    "# print(\"Start...\")\n",
    "\n",
    "\"\"\"\n",
    "# Verifier si un champ est toujours null.\n",
    "# \n",
    "# Resultat:\n",
    "# p01i == M\n",
    "# mslp == M\n",
    "# ice_accretion_1hr == M\n",
    "# ice_accretion_3hr == M\n",
    "# ice_accretion_6hr == M\n",
    "# peak_wind_gust == M\n",
    "# peak_wind_drct == M\n",
    "# peak_wind_time == M\n",
    "\n",
    "while flag:\n",
    "    if i % 100000 == 0:\n",
    "        print(i)\n",
    "    a = next(g)\n",
    "    i = i+1\n",
    "    if a['peak_wind_gust'] != 'M':\n",
    "        print(str(a['peak_wind_gust']))\n",
    "        print('peak_wind_gust')\n",
    "        break\n",
    "    if a['peak_wind_drct'] != 'M':\n",
    "        print(str(a['peak_wind_drct']))\n",
    "        print('peak_wind_drct')\n",
    "        break\n",
    "    if a['peak_wind_time'] != 'M':\n",
    "        print(str(a['peak_wind_time']))\n",
    "        print('peak_wind_time')\n",
    "        break\n",
    "\"\"\"\n",
    "\n",
    "def loadata(filename):\n",
    "    dateparser = re.compile(\n",
    "        \"(?P<year>\\d+)-(?P<month>\\d+)-(?P<day>\\d+) (?P<hour>\\d+):(?P<minute>\\d+)\"\n",
    "    )\n",
    "    with open(filename) as f:\n",
    "        for r in csv.DictReader(f):\n",
    "            \n",
    "            match_valid = dateparser.match(r[\"valid\"])\n",
    "            if not match_valid or (r[\"lon\"] == 'M') or (r[\"lat\"] == 'M'):\n",
    "                        continue\n",
    "            time = match_valid.groupdict()\n",
    "            data = {}\n",
    "            data[\"station\"] = r[\"station\"]\n",
    "            data[\"timestamp\"] = (\n",
    "                int(time[\"year\"]),\n",
    "                int(time[\"month\"]),\n",
    "                int(time[\"day\"]),\n",
    "                int(time[\"hour\"]),\n",
    "                int(time[\"minute\"])\n",
    "            )\n",
    "            data[\"lon\"] = float(r[\"lon\"])\n",
    "            data[\"lat\"] = float(r[\"lat\"])\n",
    "\n",
    "            if r[\"tmpf\"]!= 'M': data[\"tmpf\"] = float(r[\"tmpf\"])\n",
    "            if r[\"dwpf\"]!= 'M': data[\"dwpf\"] = float(r[\"dwpf\"])\n",
    "            if r[\"relh\"]!= 'M': data[\"relh\"] = float(r[\"relh\"])\n",
    "            if r[\"drct\"]!= 'M': data[\"drct\"] = float(r[\"drct\"])\n",
    "            if r[\"sknt\"]!= 'M': data[\"sknt\"] = float(r[\"sknt\"])\n",
    "            if r[\"p01i\"]!= 'M': data[\"p01i\"] = float(r[\"p01i\"])\n",
    "            if r[\"alti\"]!= 'M': data[\"alti\"] = float(r[\"alti\"])\n",
    "            if r[\"mslp\"]!= 'M': data[\"mslp\"] = float(r[\"mslp\"])\n",
    "            if r[\"vsby\"]!= 'M': data[\"vsby\"] = float(r[\"vsby\"])\n",
    "            if r[\"gust\"]!= 'M': data[\"gust\"] = float(r[\"gust\"])\n",
    "\n",
    "            if r[\"skyc1\"]!= 'M': data[\"skyc1\"] = r[\"skyc1\"]\n",
    "            if r[\"skyc2\"]!= 'M': data[\"skyc2\"] = r[\"skyc2\"]\n",
    "            if r[\"skyc3\"]!= 'M': data[\"skyc3\"] = r[\"skyc3\"]\n",
    "            if r[\"skyc4\"]!= 'M': data[\"skyc4\"] = r[\"skyc4\"]\n",
    "\n",
    "            if r[\"skyl1\"]!= 'M': data[\"skyl1\"] = float(r[\"skyl1\"])\n",
    "            if r[\"skyl2\"]!= 'M': data[\"skyl2\"] = float(r[\"skyl2\"])\n",
    "            if r[\"skyl3\"]!= 'M': data[\"skyl3\"] = float(r[\"skyl3\"])\n",
    "            if r[\"skyl4\"]!= 'M': data[\"skyl4\"] = float(r[\"skyl4\"])\n",
    "\n",
    "            if r[\"wxcodes\"]!= 'M': data[\"wxcodes\"] = r[\"wxcodes\"]\n",
    "\n",
    "            if r[\"ice_accretion_1hr\"]!= 'M': data[\"ice_accretion_1hr\"] = float(r[\"ice_accretion_1hr\"])\n",
    "            if r[\"ice_accretion_3hr\"]!= 'M': data[\"ice_accretion_3hr\"] = float(r[\"ice_accretion_3hr\"])\n",
    "            if r[\"ice_accretion_6hr\"]!= 'M': data[\"ice_accretion_6hr\"] = float(r[\"ice_accretion_6hr\"])\n",
    "\n",
    "            if r[\"peak_wind_gust\"]!= 'M': data[\"peak_wind_gust\"] = float(r[\"peak_wind_gust\"])\n",
    "            if r[\"peak_wind_drct\"]!= 'M': data[\"peak_wind_drct\"] = float(r[\"peak_wind_drct\"])\n",
    "            if r[\"peak_wind_time\"]!= 'M': data[\"peak_wind_time\"] = r[\"peak_wind_time\"]\n",
    "\n",
    "            if r[\"feel\"]!= 'M': data[\"feel\"] = float(r[\"feel\"])\n",
    "\n",
    "            if r[\"metar\"]!= 'M': data[\"metar\"] = r[\"metar\"]\n",
    "\n",
    "            yield data\n"
   ]
  },
  {
   "cell_type": "code",
   "execution_count": 38,
   "metadata": {},
   "outputs": [],
   "source": [
    "g = loadata('./asos.txt')"
   ]
  },
  {
   "cell_type": "code",
   "execution_count": 39,
   "metadata": {},
   "outputs": [
    {
     "data": {
      "text/plain": [
       "{'alti': 29.59,\n",
       " 'drct': 180.0,\n",
       " 'dwpf': 33.8,\n",
       " 'feel': 30.79,\n",
       " 'lat': 47.4444,\n",
       " 'lon': 0.7272,\n",
       " 'metar': 'LFOT 010000Z 18013KT 9999 -RA BKN026 BKN100 04/01 Q1002',\n",
       " 'relh': 80.79,\n",
       " 'sknt': 13.0,\n",
       " 'skyc1': 'BKN',\n",
       " 'skyc2': 'BKN',\n",
       " 'skyl1': 2600.0,\n",
       " 'skyl2': 10000.0,\n",
       " 'station': 'LFOT',\n",
       " 'timestamp': (2001, 1, 1, 0, 0),\n",
       " 'tmpf': 39.2,\n",
       " 'vsby': 6.21,\n",
       " 'wxcodes': '-RA'}"
      ]
     },
     "execution_count": 39,
     "metadata": {},
     "output_type": "execute_result"
    }
   ],
   "source": [
    "next(g)"
   ]
  },
  {
   "cell_type": "code",
   "execution_count": null,
   "metadata": {},
   "outputs": [],
   "source": []
  },
  {
   "cell_type": "code",
   "execution_count": null,
   "metadata": {},
   "outputs": [],
   "source": []
  }
 ],
 "metadata": {
  "kernelspec": {
   "display_name": "Python 3",
   "language": "python",
   "name": "python3"
  },
  "language_info": {
   "codemirror_mode": {
    "name": "ipython",
    "version": 3
   },
   "file_extension": ".py",
   "mimetype": "text/x-python",
   "name": "python",
   "nbconvert_exporter": "python",
   "pygments_lexer": "ipython3",
   "version": "3.6.4"
  }
 },
 "nbformat": 4,
 "nbformat_minor": 2
}
